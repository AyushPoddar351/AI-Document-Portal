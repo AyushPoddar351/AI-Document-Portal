{
 "cells": [
  {
   "cell_type": "code",
   "execution_count": 15,
   "id": "9eea8f44",
   "metadata": {},
   "outputs": [],
   "source": [
    "import sys, traceback"
   ]
  },
  {
   "cell_type": "code",
   "execution_count": 16,
   "id": "e587f3a9",
   "metadata": {},
   "outputs": [
    {
     "ename": "ModuleNotFoundError",
     "evalue": "No module named 'logger'",
     "output_type": "error",
     "traceback": [
      "\u001b[31m---------------------------------------------------------------------------\u001b[39m",
      "\u001b[31mModuleNotFoundError\u001b[39m                       Traceback (most recent call last)",
      "\u001b[36mCell\u001b[39m\u001b[36m \u001b[39m\u001b[32mIn[16]\u001b[39m\u001b[32m, line 1\u001b[39m\n\u001b[32m----> \u001b[39m\u001b[32m1\u001b[39m \u001b[38;5;28;01mfrom\u001b[39;00m\u001b[38;5;250m \u001b[39m\u001b[34;01mlogger\u001b[39;00m\u001b[34;01m.\u001b[39;00m\u001b[34;01mcustom_logger\u001b[39;00m\u001b[38;5;250m \u001b[39m\u001b[38;5;28;01mimport\u001b[39;00m CustomLogger\n",
      "\u001b[31mModuleNotFoundError\u001b[39m: No module named 'logger'"
     ]
    }
   ],
   "source": [
    "from logger.custom_logger import CustomLogger"
   ]
  },
  {
   "cell_type": "code",
   "execution_count": 12,
   "id": "ce4fd652",
   "metadata": {},
   "outputs": [
    {
     "ename": "NameError",
     "evalue": "name 'CustomLogger' is not defined",
     "output_type": "error",
     "traceback": [
      "\u001b[31m---------------------------------------------------------------------------\u001b[39m",
      "\u001b[31mNameError\u001b[39m                                 Traceback (most recent call last)",
      "\u001b[36mCell\u001b[39m\u001b[36m \u001b[39m\u001b[32mIn[12]\u001b[39m\u001b[32m, line 1\u001b[39m\n\u001b[32m----> \u001b[39m\u001b[32m1\u001b[39m logger=\u001b[43mCustomLogger\u001b[49m().get_logger(\u001b[33m\"\u001b[39m\u001b[33mexception_experiment\u001b[39m\u001b[33m\"\u001b[39m)\n",
      "\u001b[31mNameError\u001b[39m: name 'CustomLogger' is not defined"
     ]
    }
   ],
   "source": [
    "logger=CustomLogger().get_logger(\"exception_experiment\")"
   ]
  },
  {
   "cell_type": "code",
   "execution_count": 5,
   "id": "2b42ee8d",
   "metadata": {},
   "outputs": [
    {
     "ename": "DocumentPortalException",
     "evalue": "\n        Error in C:\\Users\\ayush\\AppData\\Local\\Temp\\ipykernel_11576\\1769714760.py at line 18\n        Message: division by zero\n        Traceback:\n        Traceback (most recent call last):\n  File \"C:\\Users\\ayush\\AppData\\Local\\Temp\\ipykernel_11576\\1769714760.py\", line 18, in <module>\n    a = 1/0\n        ~^~\nZeroDivisionError: division by zero\n",
     "output_type": "error",
     "traceback": [
      "\u001b[31m---------------------------------------------------------------------------\u001b[39m",
      "\u001b[31mZeroDivisionError\u001b[39m                         Traceback (most recent call last)",
      "\u001b[36mCell\u001b[39m\u001b[36m \u001b[39m\u001b[32mIn[5]\u001b[39m\u001b[32m, line 18\u001b[39m\n\u001b[32m     17\u001b[39m \u001b[38;5;28;01mtry\u001b[39;00m:\n\u001b[32m---> \u001b[39m\u001b[32m18\u001b[39m     a = \u001b[32;43m1\u001b[39;49m\u001b[43m/\u001b[49m\u001b[32;43m0\u001b[39;49m\n\u001b[32m     19\u001b[39m     \u001b[38;5;28mprint\u001b[39m(a)\n",
      "\u001b[31mZeroDivisionError\u001b[39m: division by zero",
      "\nDuring handling of the above exception, another exception occurred:\n",
      "\u001b[31mDocumentPortalException\u001b[39m                   Traceback (most recent call last)",
      "\u001b[36mCell\u001b[39m\u001b[36m \u001b[39m\u001b[32mIn[5]\u001b[39m\u001b[32m, line 22\u001b[39m\n\u001b[32m     20\u001b[39m \u001b[38;5;28;01mexcept\u001b[39;00m \u001b[38;5;167;01mException\u001b[39;00m \u001b[38;5;28;01mas\u001b[39;00m e:\n\u001b[32m     21\u001b[39m     app_ex = DocumentPortalException(e,sys)\n\u001b[32m---> \u001b[39m\u001b[32m22\u001b[39m     \u001b[38;5;28;01mraise\u001b[39;00m app_ex\n",
      "\u001b[31mDocumentPortalException\u001b[39m: \n        Error in C:\\Users\\ayush\\AppData\\Local\\Temp\\ipykernel_11576\\1769714760.py at line 18\n        Message: division by zero\n        Traceback:\n        Traceback (most recent call last):\n  File \"C:\\Users\\ayush\\AppData\\Local\\Temp\\ipykernel_11576\\1769714760.py\", line 18, in <module>\n    a = 1/0\n        ~^~\nZeroDivisionError: division by zero\n"
     ]
    }
   ],
   "source": [
    "class DocumentPortalException(Exception):\n",
    "    def __init__(self, message:str, details:sys):\n",
    "       _, _ , tb = details.exc_info()\n",
    "       self.filename = tb.tb_frame.f_code.co_filename\n",
    "       self.lineno = tb.tb_lineno\n",
    "       self.message = str(message)\n",
    "       self.traceback_str = ''.join(traceback.format_exception(*details.exc_info()))\n",
    "\n",
    "    def __str__(self):\n",
    "        return f\"\"\"\n",
    "        Error in {self.filename} at line {self.lineno}\n",
    "        Message: {self.message}\n",
    "        Traceback:\n",
    "        {self.traceback_str}\"\"\"\n",
    "\n",
    "if __name__ == \"__main__\":\n",
    "    try:\n",
    "        a = 1/0\n",
    "        print(a)\n",
    "    except Exception as e:\n",
    "        app_ex = DocumentPortalException(e,sys)\n",
    "        raise app_ex"
   ]
  }
 ],
 "metadata": {
  "kernelspec": {
   "display_name": "env",
   "language": "python",
   "name": "python3"
  },
  "language_info": {
   "codemirror_mode": {
    "name": "ipython",
    "version": 3
   },
   "file_extension": ".py",
   "mimetype": "text/x-python",
   "name": "python",
   "nbconvert_exporter": "python",
   "pygments_lexer": "ipython3",
   "version": "3.12.0"
  }
 },
 "nbformat": 4,
 "nbformat_minor": 5
}
